{
 "cells": [
  {
   "cell_type": "markdown",
   "id": "65e3e7a5",
   "metadata": {},
   "source": [
    "### Naive Bayes - Exercise\n",
    "\n",
    "Use wine dataset from sklearn.datasets to classify wines into 3 categories. Load the dataset and split it inti test amd train.\n",
    "\n",
    "After that train the model using Gaussian and Multinominal classifier and post which model performs better.\n",
    "\n",
    "Use the trained model to perform some predictions on data."
   ]
  }
 ],
 "metadata": {
  "kernelspec": {
   "display_name": "Python 3 (ipykernel)",
   "language": "python",
   "name": "python3"
  },
  "language_info": {
   "codemirror_mode": {
    "name": "ipython",
    "version": 3
   },
   "file_extension": ".py",
   "mimetype": "text/x-python",
   "name": "python",
   "nbconvert_exporter": "python",
   "pygments_lexer": "ipython3",
   "version": "3.9.13"
  }
 },
 "nbformat": 4,
 "nbformat_minor": 5
}
