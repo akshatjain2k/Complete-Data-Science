{
 "cells": [
  {
   "cell_type": "markdown",
   "id": "0f1866ee",
   "metadata": {},
   "source": [
    "### Exercise\n",
    "\n",
    "Train SVM classifier using sklearn digitd dataset(eg. from sklearn.datasets import load_digits) and then.\n",
    "\n",
    "1. Measure accuracy of your model using different kernals such as rbf and linear\n",
    "2. Tune your model further using regularization and gamma parameters and try to come up with the highest accuracy score\n",
    "3. Use 80% of samples as training data size"
   ]
  },
  {
   "cell_type": "code",
   "execution_count": null,
   "id": "e0d8dd04",
   "metadata": {},
   "outputs": [],
   "source": []
  }
 ],
 "metadata": {
  "kernelspec": {
   "display_name": "Python 3 (ipykernel)",
   "language": "python",
   "name": "python3"
  },
  "language_info": {
   "codemirror_mode": {
    "name": "ipython",
    "version": 3
   },
   "file_extension": ".py",
   "mimetype": "text/x-python",
   "name": "python",
   "nbconvert_exporter": "python",
   "pygments_lexer": "ipython3",
   "version": "3.9.13"
  }
 },
 "nbformat": 4,
 "nbformat_minor": 5
}
