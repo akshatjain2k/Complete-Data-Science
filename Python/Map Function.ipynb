{
 "cells": [
  {
   "cell_type": "code",
   "execution_count": 11,
   "id": "90aac939",
   "metadata": {},
   "outputs": [
    {
     "name": "stdout",
     "output_type": "stream",
     "text": [
      "24 is Even\n"
     ]
    }
   ],
   "source": [
    "def evenOdd(num):\n",
    "        if num % 2 == 0:\n",
    "            print(\"{} is Even\".format(num))\n",
    "        else:\n",
    "            print(\"{} is Odd\".format(num))\n",
    "evenOdd(24)"
   ]
  },
  {
   "cell_type": "code",
   "execution_count": 13,
   "id": "b414d289",
   "metadata": {},
   "outputs": [],
   "source": [
    "lst = [5,1,7,4,9,3,6,8,2]"
   ]
  },
  {
   "cell_type": "code",
   "execution_count": 14,
   "id": "4f32b7b6",
   "metadata": {},
   "outputs": [
    {
     "name": "stdout",
     "output_type": "stream",
     "text": [
      "5 is Odd\n",
      "1 is Odd\n",
      "7 is Odd\n",
      "4 is Even\n",
      "9 is Odd\n",
      "3 is Odd\n",
      "6 is Even\n",
      "8 is Even\n",
      "2 is Even\n"
     ]
    },
    {
     "data": {
      "text/plain": [
       "[None, None, None, None, None, None, None, None, None]"
      ]
     },
     "execution_count": 14,
     "metadata": {},
     "output_type": "execute_result"
    }
   ],
   "source": [
    "list(map(evenOdd, lst))"
   ]
  },
  {
   "cell_type": "code",
   "execution_count": null,
   "id": "954edd1d",
   "metadata": {},
   "outputs": [],
   "source": []
  },
  {
   "cell_type": "code",
   "execution_count": null,
   "id": "9498db1f",
   "metadata": {},
   "outputs": [],
   "source": []
  }
 ],
 "metadata": {
  "kernelspec": {
   "display_name": "Python 3 (ipykernel)",
   "language": "python",
   "name": "python3"
  },
  "language_info": {
   "codemirror_mode": {
    "name": "ipython",
    "version": 3
   },
   "file_extension": ".py",
   "mimetype": "text/x-python",
   "name": "python",
   "nbconvert_exporter": "python",
   "pygments_lexer": "ipython3",
   "version": "3.9.13"
  }
 },
 "nbformat": 4,
 "nbformat_minor": 5
}
