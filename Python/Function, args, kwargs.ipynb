{
 "cells": [
  {
   "cell_type": "code",
   "execution_count": 15,
   "id": "5eec3b34",
   "metadata": {},
   "outputs": [
    {
     "name": "stdout",
     "output_type": "stream",
     "text": [
      "My Name is akshat and age is 23\n"
     ]
    }
   ],
   "source": [
    "def hello(name, age=23):\n",
    "    print(\"My Name is {} and age is {}\".format(name,age))\n",
    "hello(\"akshat\")"
   ]
  },
  {
   "cell_type": "code",
   "execution_count": 16,
   "id": "99085994",
   "metadata": {},
   "outputs": [
    {
     "name": "stdout",
     "output_type": "stream",
     "text": [
      "('AKshat', 'Jain')\n",
      "{'num': 9982454, 'dob': 2000, 'age': 23}\n"
     ]
    }
   ],
   "source": [
    "def hello(*args, **kwargs):\n",
    "    print(args)\n",
    "    print(kwargs)\n",
    "hello(\"AKshat\", \"Jain\", num=9982454, dob = 2000, age=23)"
   ]
  },
  {
   "cell_type": "code",
   "execution_count": null,
   "id": "186b2ae9",
   "metadata": {},
   "outputs": [],
   "source": []
  }
 ],
 "metadata": {
  "kernelspec": {
   "display_name": "Python 3 (ipykernel)",
   "language": "python",
   "name": "python3"
  },
  "language_info": {
   "codemirror_mode": {
    "name": "ipython",
    "version": 3
   },
   "file_extension": ".py",
   "mimetype": "text/x-python",
   "name": "python",
   "nbconvert_exporter": "python",
   "pygments_lexer": "ipython3",
   "version": "3.9.13"
  }
 },
 "nbformat": 4,
 "nbformat_minor": 5
}
