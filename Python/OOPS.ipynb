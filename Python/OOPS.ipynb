{
 "cells": [
  {
   "cell_type": "code",
   "execution_count": 3,
   "id": "a85c7134",
   "metadata": {},
   "outputs": [],
   "source": [
    "class Car:\n",
    "    def __init__(self,window, door, enginetype):\n",
    "        self.windows = window\n",
    "        self.doors = door\n",
    "        self.enginetypes = enginetype\n",
    "    def self_driving(self):\n",
    "        return \"This is {} car\".format(self.enginetypes)"
   ]
  },
  {
   "cell_type": "code",
   "execution_count": 4,
   "id": "d293ef94",
   "metadata": {},
   "outputs": [],
   "source": [
    "car1 = Car(5, 4, \"Electric\")\n",
    "# car1.self_driving()"
   ]
  },
  {
   "cell_type": "code",
   "execution_count": 5,
   "id": "7145084a",
   "metadata": {},
   "outputs": [],
   "source": [
    "car2 = Car(3,4, \"diesel\")\n",
    "# car2.self_driving()"
   ]
  },
  {
   "cell_type": "code",
   "execution_count": 6,
   "id": "cdc71638",
   "metadata": {},
   "outputs": [
    {
     "name": "stdout",
     "output_type": "stream",
     "text": [
      "5\n",
      "3\n"
     ]
    }
   ],
   "source": [
    "print(car1.windows)\n",
    "print(car2.windows)"
   ]
  },
  {
   "cell_type": "code",
   "execution_count": null,
   "id": "3e0af91b",
   "metadata": {},
   "outputs": [],
   "source": []
  }
 ],
 "metadata": {
  "kernelspec": {
   "display_name": "Python 3 (ipykernel)",
   "language": "python",
   "name": "python3"
  },
  "language_info": {
   "codemirror_mode": {
    "name": "ipython",
    "version": 3
   },
   "file_extension": ".py",
   "mimetype": "text/x-python",
   "name": "python",
   "nbconvert_exporter": "python",
   "pygments_lexer": "ipython3",
   "version": "3.9.13"
  }
 },
 "nbformat": 4,
 "nbformat_minor": 5
}
