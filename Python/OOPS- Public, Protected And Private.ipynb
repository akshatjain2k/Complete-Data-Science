{
 "cells": [
  {
   "cell_type": "code",
   "execution_count": 1,
   "id": "4929df10",
   "metadata": {},
   "outputs": [],
   "source": [
    "class Car():\n",
    "    def __init__(self,window,door,enginetype):\n",
    "        self.windows=window\n",
    "        self.doors=door\n",
    "        self.enginetypes=enginetype"
   ]
  },
  {
   "cell_type": "code",
   "execution_count": 2,
   "id": "d82dee3f",
   "metadata": {},
   "outputs": [],
   "source": [
    "car1 = Car(10,4, \"Electric\")"
   ]
  },
  {
   "cell_type": "code",
   "execution_count": 3,
   "id": "53d336ae",
   "metadata": {},
   "outputs": [
    {
     "data": {
      "text/plain": [
       "10"
      ]
     },
     "execution_count": 3,
     "metadata": {},
     "output_type": "execute_result"
    }
   ],
   "source": [
    "car1.windows"
   ]
  },
  {
   "cell_type": "code",
   "execution_count": 7,
   "id": "1e7b3d82",
   "metadata": {},
   "outputs": [],
   "source": [
    "# Protected class variable\n",
    "class Car():\n",
    "    def __init__(self,window,door,enginetype):\n",
    "        self._windows=window\n",
    "        self._doors=door\n",
    "        self._enginetypse=enginetype"
   ]
  },
  {
   "cell_type": "code",
   "execution_count": 8,
   "id": "baa986fb",
   "metadata": {},
   "outputs": [],
   "source": [
    "class Truck(Car):\n",
    "    def __init__(self, window, door, enginetype, horsepower):\n",
    "        super().__init__(window, door, enginetype)\n",
    "        self.horsepowers = horsepower"
   ]
  },
  {
   "cell_type": "code",
   "execution_count": 9,
   "id": "cee1ec1f",
   "metadata": {},
   "outputs": [],
   "source": [
    "truck = Truck(7, 7, \"Diesel\", 4000)"
   ]
  },
  {
   "cell_type": "code",
   "execution_count": 12,
   "id": "054bf087",
   "metadata": {},
   "outputs": [],
   "source": [
    "truck._horsepower = 4000"
   ]
  },
  {
   "cell_type": "code",
   "execution_count": 13,
   "id": "6e2b4c16",
   "metadata": {},
   "outputs": [
    {
     "data": {
      "text/plain": [
       "4000"
      ]
     },
     "execution_count": 13,
     "metadata": {},
     "output_type": "execute_result"
    }
   ],
   "source": [
    "truck._horsepower"
   ]
  },
  {
   "cell_type": "code",
   "execution_count": 14,
   "id": "e9f0b222",
   "metadata": {},
   "outputs": [],
   "source": [
    "### Private\n",
    "class Car():\n",
    "    def __init__(self, window, door, enginetype):\n",
    "        self.__windows=window\n",
    "        self.__doors=door\n",
    "        self.__enginetypes=enginetype"
   ]
  },
  {
   "cell_type": "code",
   "execution_count": 15,
   "id": "9a7969ed",
   "metadata": {},
   "outputs": [],
   "source": [
    "audi = Car(6, 6, \"Petrol\")"
   ]
  },
  {
   "cell_type": "code",
   "execution_count": 16,
   "id": "b9100f88",
   "metadata": {},
   "outputs": [],
   "source": [
    "audi._Car_doors = 5"
   ]
  },
  {
   "cell_type": "code",
   "execution_count": 19,
   "id": "4e12d041",
   "metadata": {},
   "outputs": [
    {
     "data": {
      "text/plain": [
       "5"
      ]
     },
     "execution_count": 19,
     "metadata": {},
     "output_type": "execute_result"
    }
   ],
   "source": [
    "audi._Car_doors"
   ]
  },
  {
   "cell_type": "code",
   "execution_count": null,
   "id": "f9267eda",
   "metadata": {},
   "outputs": [],
   "source": []
  }
 ],
 "metadata": {
  "kernelspec": {
   "display_name": "Python 3 (ipykernel)",
   "language": "python",
   "name": "python3"
  },
  "language_info": {
   "codemirror_mode": {
    "name": "ipython",
    "version": 3
   },
   "file_extension": ".py",
   "mimetype": "text/x-python",
   "name": "python",
   "nbconvert_exporter": "python",
   "pygments_lexer": "ipython3",
   "version": "3.9.13"
  }
 },
 "nbformat": 4,
 "nbformat_minor": 5
}
