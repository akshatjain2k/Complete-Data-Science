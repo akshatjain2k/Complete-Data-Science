{
 "cells": [
  {
   "cell_type": "code",
   "execution_count": 30,
   "id": "3efd9e2e",
   "metadata": {},
   "outputs": [],
   "source": [
    "class Car:\n",
    "    def __init__(self, window, door, enginetype):\n",
    "        self.windows = window\n",
    "        self.doors = door\n",
    "        self.enginetypes = enginetype\n",
    "    def drive(self, price):\n",
    "        print(\"The Person drives the car and th price is {}\".format(price))"
   ]
  },
  {
   "cell_type": "code",
   "execution_count": 31,
   "id": "0395a02a",
   "metadata": {},
   "outputs": [],
   "source": [
    "car1 = Car(4, 5, \"diesel\")"
   ]
  },
  {
   "cell_type": "code",
   "execution_count": 32,
   "id": "c67a5049",
   "metadata": {},
   "outputs": [
    {
     "name": "stdout",
     "output_type": "stream",
     "text": [
      "The Person drives the car and th price is 2000\n"
     ]
    }
   ],
   "source": [
    "car1.drive(2000)"
   ]
  },
  {
   "cell_type": "code",
   "execution_count": 22,
   "id": "ac82e793",
   "metadata": {},
   "outputs": [
    {
     "name": "stdout",
     "output_type": "stream",
     "text": [
      "4\n"
     ]
    }
   ],
   "source": [
    "print(car1.windows)"
   ]
  },
  {
   "cell_type": "code",
   "execution_count": 33,
   "id": "5005ef5f",
   "metadata": {},
   "outputs": [],
   "source": [
    "class audi(Car):\n",
    "    def __init__(self, windows, doors, enginetypes, enableai):\n",
    "        super().__init__(windows, doors, enginetypes) # for inheriting\n",
    "        self.enableai=enableai\n",
    "    def selfDriving(self):\n",
    "        print(\"Audi supports self driving\")"
   ]
  },
  {
   "cell_type": "code",
   "execution_count": 37,
   "id": "dd9ee6b7",
   "metadata": {},
   "outputs": [],
   "source": [
    "audi07 = audi(10, 10, \"diesel\", False)"
   ]
  },
  {
   "cell_type": "code",
   "execution_count": 38,
   "id": "d3b46fd6",
   "metadata": {},
   "outputs": [
    {
     "data": {
      "text/plain": [
       "False"
      ]
     },
     "execution_count": 38,
     "metadata": {},
     "output_type": "execute_result"
    }
   ],
   "source": [
    "audi07.enableai"
   ]
  },
  {
   "cell_type": "code",
   "execution_count": null,
   "id": "a99cf10b",
   "metadata": {},
   "outputs": [],
   "source": []
  }
 ],
 "metadata": {
  "kernelspec": {
   "display_name": "Python 3 (ipykernel)",
   "language": "python",
   "name": "python3"
  },
  "language_info": {
   "codemirror_mode": {
    "name": "ipython",
    "version": 3
   },
   "file_extension": ".py",
   "mimetype": "text/x-python",
   "name": "python",
   "nbconvert_exporter": "python",
   "pygments_lexer": "ipython3",
   "version": "3.9.13"
  }
 },
 "nbformat": 4,
 "nbformat_minor": 5
}
