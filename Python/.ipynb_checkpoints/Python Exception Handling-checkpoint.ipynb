{
 "cells": [
  {
   "cell_type": "code",
   "execution_count": null,
   "id": "eda97f5f",
   "metadata": {},
   "outputs": [],
   "source": [
    "try:\n",
    "    a=1\n",
    "    b=\"s\"\n",
    "    c =a+b\n",
    "except NameError as ex1:\n",
    "    print(\"The User have not defined the variable\")\n",
    "except Exception as ex:\n",
    "    print(ex)"
   ]
  },
  {
   "cell_type": "code",
   "execution_count": 4,
   "id": "b113aa80",
   "metadata": {},
   "outputs": [
    {
     "name": "stdout",
     "output_type": "stream",
     "text": [
      "name 'b' is not defined\n"
     ]
    }
   ],
   "source": [
    "try:\n",
    "    a=b\n",
    "except Exception as ex:\n",
    "    print(ex)"
   ]
  },
  {
   "cell_type": "code",
   "execution_count": null,
   "id": "ccb2206d",
   "metadata": {},
   "outputs": [],
   "source": [
    "try:\n",
    "    a = int(input(\"Enter The number 1: \"))\n",
    "    b = int(input(\"Enter The number 2: \"))\n",
    "    c = a/b\n",
    "    d = a*b\n",
    "    e = a+b\n",
    "    \n",
    "except NameError:\n",
    "    print(\"The User have not defined the variable\")\n",
    "except ZeroDivisionError:\n",
    "    print(\"Do not use Zero\")\n",
    "except TypeError:\n",
    "    print(\"Try to make the datatype similar\")\n",
    "except Exception as ex:\n",
    "    print(ex)\n",
    "else:\n",
    "    print(c)\n",
    "    print(d)\n",
    "    print(e)\n"
   ]
  },
  {
   "cell_type": "code",
   "execution_count": 17,
   "id": "b5d9dad4",
   "metadata": {},
   "outputs": [
    {
     "name": "stdout",
     "output_type": "stream",
     "text": [
      "Enter The number 1: 45\n",
      "Enter The number 2: 0\n",
      "Do not use Zero\n",
      "The Execution is done\n"
     ]
    }
   ],
   "source": [
    "try:\n",
    "    a = int(input(\"Enter The number 1: \"))\n",
    "    b = int(input(\"Enter The number 2: \"))\n",
    "    c = a/b\n",
    "    \n",
    "except NameError:\n",
    "    print(\"The User have not defined the variable\")\n",
    "except ZeroDivisionError:\n",
    "    print(\"Do not use Zero\")\n",
    "except TypeError:\n",
    "    print(\"Try to make the datatype similar\")\n",
    "except Exception as ex:\n",
    "    print(ex)\n",
    "else:\n",
    "    print(c)\n",
    "finally:\n",
    "    print(\"The Execution is done\")"
   ]
  },
  {
   "cell_type": "code",
   "execution_count": 18,
   "id": "d65e01d6",
   "metadata": {},
   "outputs": [],
   "source": [
    "class Error(Exception):\n",
    "    pass\n",
    "\n",
    "class dobException(Error):\n",
    "    pass\n",
    "\n",
    "class customgeneric(Error):\n",
    "    pass"
   ]
  },
  {
   "cell_type": "code",
   "execution_count": 20,
   "id": "141eea60",
   "metadata": {},
   "outputs": [
    {
     "name": "stdout",
     "output_type": "stream",
     "text": [
      "Enter the year of birth2022\n",
      "The age is not within the range. You cannot apply for the exams\n"
     ]
    }
   ],
   "source": [
    "year = int(input(\"Enter the year of birth\"))\n",
    "age = 2022-year\n",
    "try:\n",
    "    if age <= 30 & age>20:\n",
    "        print(\"The age is valid. You can apply for the exams\")\n",
    "    else:\n",
    "        raise dobException\n",
    "except dobException:\n",
    "    print(\"The age is not within the range. You cannot apply for the exams\")"
   ]
  },
  {
   "cell_type": "code",
   "execution_count": 9,
   "id": "b0747ab8",
   "metadata": {},
   "outputs": [
    {
     "name": "stdout",
     "output_type": "stream",
     "text": [
      "Enter Age: 45\n",
      "Go for a Ride\n"
     ]
    }
   ],
   "source": [
    "# class Error(Exception):\n",
    "#     pass\n",
    "class vehicleageExc(Exception):\n",
    "    pass\n",
    "\n",
    "age = int(input(\"Enter Age: \"))\n",
    "try:\n",
    "    if age >= 18:\n",
    "        print(\"Go for a Ride\")\n",
    "    else:\n",
    "        raise vehicleageExc\n",
    "        \n",
    "except vehicleageExc:\n",
    "    print(\"Not Eligible For Ride\")"
   ]
  },
  {
   "cell_type": "code",
   "execution_count": null,
   "id": "482f5754",
   "metadata": {},
   "outputs": [],
   "source": []
  }
 ],
 "metadata": {
  "kernelspec": {
   "display_name": "Python 3 (ipykernel)",
   "language": "python",
   "name": "python3"
  },
  "language_info": {
   "codemirror_mode": {
    "name": "ipython",
    "version": 3
   },
   "file_extension": ".py",
   "mimetype": "text/x-python",
   "name": "python",
   "nbconvert_exporter": "python",
   "pygments_lexer": "ipython3",
   "version": "3.9.13"
  }
 },
 "nbformat": 4,
 "nbformat_minor": 5
}
