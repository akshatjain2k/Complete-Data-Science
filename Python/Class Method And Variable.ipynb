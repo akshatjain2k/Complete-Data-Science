{
 "cells": [
  {
   "cell_type": "code",
   "execution_count": 1,
   "id": "1d62ca7f",
   "metadata": {},
   "outputs": [],
   "source": [
    "class Car:\n",
    "    basePrice = 10000;  # class Variable\n",
    "    def __init__(self,window, door, power):\n",
    "        self.windows = window\n",
    "        self.doors = door\n",
    "        self.powers = power\n",
    "    def what_basePrice(self):\n",
    "        print(\"The base price is {}\".format(self.basePrice))\n",
    "    @classmethod\n",
    "    def revise_base_price(cls, inflation): \n",
    "        cls.basePrice += cls.basePrice*inflation "
   ]
  },
  {
   "cell_type": "code",
   "execution_count": 6,
   "id": "d7013ae1",
   "metadata": {},
   "outputs": [],
   "source": [
    "Car.revise_base_price(0.20)"
   ]
  },
  {
   "cell_type": "code",
   "execution_count": 7,
   "id": "0d670c8b",
   "metadata": {},
   "outputs": [
    {
     "data": {
      "text/plain": [
       "13200.0"
      ]
     },
     "execution_count": 7,
     "metadata": {},
     "output_type": "execute_result"
    }
   ],
   "source": [
    "Car.basePrice"
   ]
  },
  {
   "cell_type": "code",
   "execution_count": 8,
   "id": "d1d1419d",
   "metadata": {},
   "outputs": [
    {
     "data": {
      "text/plain": [
       "13200.0"
      ]
     },
     "execution_count": 8,
     "metadata": {},
     "output_type": "execute_result"
    }
   ],
   "source": [
    "car1 = Car(4,5,2000)\n",
    "car1.basePrice"
   ]
  },
  {
   "cell_type": "code",
   "execution_count": null,
   "id": "98649e59",
   "metadata": {},
   "outputs": [],
   "source": []
  }
 ],
 "metadata": {
  "kernelspec": {
   "display_name": "Python 3 (ipykernel)",
   "language": "python",
   "name": "python3"
  },
  "language_info": {
   "codemirror_mode": {
    "name": "ipython",
    "version": 3
   },
   "file_extension": ".py",
   "mimetype": "text/x-python",
   "name": "python",
   "nbconvert_exporter": "python",
   "pygments_lexer": "ipython3",
   "version": "3.9.13"
  }
 },
 "nbformat": 4,
 "nbformat_minor": 5
}
