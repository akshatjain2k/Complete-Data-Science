{
 "cells": [
  {
   "cell_type": "code",
   "execution_count": 40,
   "id": "c9a883df",
   "metadata": {},
   "outputs": [],
   "source": [
    "class A:\n",
    "    def meth1(self):\n",
    "        print(\"This is class A\")\n",
    "    def animal(self, name):\n",
    "        print(\"This is a {}\".format(name))"
   ]
  },
  {
   "cell_type": "code",
   "execution_count": 46,
   "id": "d07f05db",
   "metadata": {},
   "outputs": [],
   "source": [
    "class B(A):\n",
    "    def meth1(self):\n",
    "        print(\"This is class B\")"
   ]
  },
  {
   "cell_type": "code",
   "execution_count": 47,
   "id": "b23013a1",
   "metadata": {},
   "outputs": [],
   "source": [
    "class C(A):\n",
    "    def meth1(self):\n",
    "        print(\"This is class C\")"
   ]
  },
  {
   "cell_type": "code",
   "execution_count": 48,
   "id": "424c7345",
   "metadata": {},
   "outputs": [],
   "source": [
    "class D(C):\n",
    "    def meth1(self):\n",
    "        print(\"This is class D\")\n",
    "        C.meth1(self)\n",
    "        B.meth1(self) \n",
    "        A.meth1(self)        "
   ]
  },
  {
   "cell_type": "code",
   "execution_count": 49,
   "id": "55e7e86c",
   "metadata": {},
   "outputs": [],
   "source": [
    "d = D()"
   ]
  },
  {
   "cell_type": "code",
   "execution_count": 50,
   "id": "20c51c68",
   "metadata": {},
   "outputs": [
    {
     "name": "stdout",
     "output_type": "stream",
     "text": [
      "This is class D\n",
      "This is class C\n",
      "This is class B\n",
      "This is class A\n"
     ]
    }
   ],
   "source": [
    "d.meth1()"
   ]
  },
  {
   "cell_type": "code",
   "execution_count": 25,
   "id": "0e55ed30",
   "metadata": {},
   "outputs": [
    {
     "name": "stdout",
     "output_type": "stream",
     "text": [
      "This is class B\n"
     ]
    }
   ],
   "source": [
    "B.meth1(D)"
   ]
  },
  {
   "cell_type": "code",
   "execution_count": 29,
   "id": "dd0a920f",
   "metadata": {},
   "outputs": [
    {
     "name": "stdout",
     "output_type": "stream",
     "text": [
      "This is a cat\n"
     ]
    }
   ],
   "source": [
    " A.animal(D, \"cat\")"
   ]
  },
  {
   "cell_type": "code",
   "execution_count": null,
   "id": "8c47412d",
   "metadata": {},
   "outputs": [],
   "source": []
  }
 ],
 "metadata": {
  "kernelspec": {
   "display_name": "Python 3 (ipykernel)",
   "language": "python",
   "name": "python3"
  },
  "language_info": {
   "codemirror_mode": {
    "name": "ipython",
    "version": 3
   },
   "file_extension": ".py",
   "mimetype": "text/x-python",
   "name": "python",
   "nbconvert_exporter": "python",
   "pygments_lexer": "ipython3",
   "version": "3.9.13"
  }
 },
 "nbformat": 4,
 "nbformat_minor": 5
}
