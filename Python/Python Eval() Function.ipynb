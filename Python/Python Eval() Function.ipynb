{
 "cells": [
  {
   "cell_type": "code",
   "execution_count": 20,
   "id": "1356a01e",
   "metadata": {},
   "outputs": [
    {
     "data": {
      "text/plain": [
       "25"
      ]
     },
     "execution_count": 20,
     "metadata": {},
     "output_type": "execute_result"
    }
   ],
   "source": [
    "5*5"
   ]
  },
  {
   "cell_type": "code",
   "execution_count": 21,
   "id": "9d2967ad",
   "metadata": {},
   "outputs": [
    {
     "data": {
      "text/plain": [
       "25"
      ]
     },
     "execution_count": 21,
     "metadata": {},
     "output_type": "execute_result"
    }
   ],
   "source": [
    "## Eval function evaluate python expression which are written as strings\n",
    "eval(\"5*5\")"
   ]
  },
  {
   "cell_type": "code",
   "execution_count": 3,
   "id": "85737e86",
   "metadata": {},
   "outputs": [
    {
     "name": "stdout",
     "output_type": "stream",
     "text": [
      "Enter The Python Expression: 45\n"
     ]
    },
    {
     "data": {
      "text/plain": [
       "45"
      ]
     },
     "execution_count": 3,
     "metadata": {},
     "output_type": "execute_result"
    }
   ],
   "source": [
    "eval(input(\"Enter The Python Expression: \"))"
   ]
  },
  {
   "cell_type": "code",
   "execution_count": 5,
   "id": "7aabdcda",
   "metadata": {},
   "outputs": [],
   "source": [
    "def square_even(num):\n",
    "    return num**2"
   ]
  },
  {
   "cell_type": "code",
   "execution_count": 6,
   "id": "95d9da9d",
   "metadata": {},
   "outputs": [
    {
     "data": {
      "text/plain": [
       "4"
      ]
     },
     "execution_count": 6,
     "metadata": {},
     "output_type": "execute_result"
    }
   ],
   "source": [
    "eval(\"square_even(2)\")"
   ]
  },
  {
   "cell_type": "markdown",
   "id": "6030d0d1",
   "metadata": {},
   "source": [
    "### How Does Eval work\n",
    "1. Parse python Expression\n",
    "2. Compile into a byte code\n",
    "3. Evaluate the python expression\n",
    "4. it will return the result"
   ]
  },
  {
   "cell_type": "code",
   "execution_count": 2,
   "id": "592fbfbf",
   "metadata": {},
   "outputs": [
    {
     "data": {
      "text/plain": [
       "25"
      ]
     },
     "execution_count": 2,
     "metadata": {},
     "output_type": "execute_result"
    }
   ],
   "source": [
    "var = compile(\"5*5\", \"<string>\", \"eval\")\n",
    "eval(var)"
   ]
  },
  {
   "cell_type": "code",
   "execution_count": 4,
   "id": "62b186a1",
   "metadata": {},
   "outputs": [
    {
     "data": {
      "text/plain": [
       "80"
      ]
     },
     "execution_count": 4,
     "metadata": {},
     "output_type": "execute_result"
    }
   ],
   "source": [
    "### Globals\n",
    "eval(\"x+50+x**2\", {\"x\":5})"
   ]
  },
  {
   "cell_type": "code",
   "execution_count": 8,
   "id": "4a3bc321",
   "metadata": {},
   "outputs": [
    {
     "data": {
      "text/plain": [
       "300"
      ]
     },
     "execution_count": 8,
     "metadata": {},
     "output_type": "execute_result"
    }
   ],
   "source": [
    "x = 100\n",
    "z = 100\n",
    "eval(\"x+z\", {\"x\":x, \"z\":200})"
   ]
  },
  {
   "cell_type": "code",
   "execution_count": 15,
   "id": "b2e52153",
   "metadata": {},
   "outputs": [
    {
     "data": {
      "text/plain": [
       "1200"
      ]
     },
     "execution_count": 15,
     "metadata": {},
     "output_type": "execute_result"
    }
   ],
   "source": [
    "x = 100\n",
    "z = 100\n",
    "eval(\"x+z+w\", {\"x\":x, \"z\":100, \"w\":1000})"
   ]
  },
  {
   "cell_type": "code",
   "execution_count": 12,
   "id": "4ae69508",
   "metadata": {},
   "outputs": [
    {
     "data": {
      "text/plain": [
       "1200"
      ]
     },
     "execution_count": 12,
     "metadata": {},
     "output_type": "execute_result"
    }
   ],
   "source": [
    "x = 100\n",
    "z = 100\n",
    "y = 1000\n",
    "eval(\"x+z+y\")"
   ]
  },
  {
   "cell_type": "code",
   "execution_count": 18,
   "id": "153ee693",
   "metadata": {},
   "outputs": [
    {
     "data": {
      "text/plain": [
       "1300"
      ]
     },
     "execution_count": 18,
     "metadata": {},
     "output_type": "execute_result"
    }
   ],
   "source": [
    "eval(\"a+b+c\",{},{\"a\":100, \"b\":200, \"c\":1000})"
   ]
  },
  {
   "cell_type": "code",
   "execution_count": 19,
   "id": "acadce81",
   "metadata": {},
   "outputs": [
    {
     "data": {
      "text/plain": [
       "True"
      ]
     },
     "execution_count": 19,
     "metadata": {},
     "output_type": "execute_result"
    }
   ],
   "source": [
    "a = 100\n",
    "b = 200\n",
    "eval(\"a<b\")"
   ]
  },
  {
   "cell_type": "code",
   "execution_count": null,
   "id": "fce2c3b1",
   "metadata": {},
   "outputs": [],
   "source": [
    "# x = 100\n",
    "# z = 100\n",
    "# y = 1000\n",
    "# eval(\"x+z+y\",{},{})  # Not specifying global and local variables so it doesn't work"
   ]
  }
 ],
 "metadata": {
  "kernelspec": {
   "display_name": "Python 3 (ipykernel)",
   "language": "python",
   "name": "python3"
  },
  "language_info": {
   "codemirror_mode": {
    "name": "ipython",
    "version": 3
   },
   "file_extension": ".py",
   "mimetype": "text/x-python",
   "name": "python",
   "nbconvert_exporter": "python",
   "pygments_lexer": "ipython3",
   "version": "3.9.13"
  }
 },
 "nbformat": 4,
 "nbformat_minor": 5
}
