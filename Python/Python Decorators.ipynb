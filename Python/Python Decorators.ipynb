{
 "cells": [
  {
   "cell_type": "code",
   "execution_count": null,
   "id": "6ecc514b",
   "metadata": {},
   "outputs": [],
   "source": [
    "### Function Copy"
   ]
  },
  {
   "cell_type": "code",
   "execution_count": 1,
   "id": "8186ac1f",
   "metadata": {},
   "outputs": [],
   "source": [
    "def welcome():\n",
    "    return \"Welcome Here\""
   ]
  },
  {
   "cell_type": "code",
   "execution_count": 2,
   "id": "57e51670",
   "metadata": {},
   "outputs": [],
   "source": [
    "wel = welcome()\n",
    "del welcome"
   ]
  },
  {
   "cell_type": "code",
   "execution_count": 3,
   "id": "6ca1609a",
   "metadata": {},
   "outputs": [
    {
     "data": {
      "text/plain": [
       "'Welcome Here'"
      ]
     },
     "execution_count": 3,
     "metadata": {},
     "output_type": "execute_result"
    }
   ],
   "source": [
    "wel"
   ]
  },
  {
   "cell_type": "code",
   "execution_count": 5,
   "id": "ba9e3e36",
   "metadata": {},
   "outputs": [],
   "source": [
    "### Closures"
   ]
  },
  {
   "cell_type": "code",
   "execution_count": 6,
   "id": "f24563f4",
   "metadata": {},
   "outputs": [],
   "source": [
    "def main_func(msg):\n",
    "\n",
    "    def sub_main_func():\n",
    "        print(\"Welcome Here\")\n",
    "        print(msg)\n",
    "        print(\"Ends here\")\n",
    "    return sub_main_func()"
   ]
  },
  {
   "cell_type": "code",
   "execution_count": 8,
   "id": "762c22a8",
   "metadata": {},
   "outputs": [
    {
     "name": "stdout",
     "output_type": "stream",
     "text": [
      "Welcome Here\n",
      "YYesss\n",
      "Ends here\n"
     ]
    }
   ],
   "source": [
    "main_func(\"YYesss\")"
   ]
  },
  {
   "cell_type": "code",
   "execution_count": 25,
   "id": "517ca2f5",
   "metadata": {},
   "outputs": [],
   "source": [
    "### CLosures & Initial Decorators\n",
    "def main_func(func):\n",
    "    def sub_main_func():\n",
    "        print(\"Welcome Here\")\n",
    "        print(func([1,2,3,4,5,6]))\n",
    "        print(\"Ends here\")\n",
    "    return sub_main_func()"
   ]
  },
  {
   "cell_type": "code",
   "execution_count": 26,
   "id": "66d9db5d",
   "metadata": {},
   "outputs": [
    {
     "name": "stdout",
     "output_type": "stream",
     "text": [
      "Welcome Here\n",
      "6\n",
      "Ends here\n"
     ]
    }
   ],
   "source": [
    "main_func(len)       # here print means msg, whatever it is."
   ]
  },
  {
   "cell_type": "code",
   "execution_count": null,
   "id": "312e8763",
   "metadata": {},
   "outputs": [],
   "source": [
    "# Decorators\n",
    "def main_func(func):\n",
    "    def sub_main_func():\n",
    "        print(\"Welcome Here\")\n",
    "        func()\n",
    "        print(\"Ends here\")\n",
    "\n",
    "        return sub_main_func()"
   ]
  },
  {
   "cell_type": "code",
   "execution_count": 20,
   "id": "df65b136",
   "metadata": {},
   "outputs": [],
   "source": [
    "# @main_func   #not working now  # after this other_func can use the functionlaity of main_func\n",
    "def other_func():\n",
    "    print(\"Try to be 2nd Line\")"
   ]
  },
  {
   "cell_type": "code",
   "execution_count": 21,
   "id": "5da9a427",
   "metadata": {},
   "outputs": [
    {
     "name": "stdout",
     "output_type": "stream",
     "text": [
      "Welcome Here\n",
      "Try to be 2nd Line\n",
      "Ends here\n"
     ]
    }
   ],
   "source": [
    "main_func(other_func)"
   ]
  },
  {
   "cell_type": "code",
   "execution_count": 22,
   "id": "829376bf",
   "metadata": {},
   "outputs": [
    {
     "name": "stdout",
     "output_type": "stream",
     "text": [
      "Welcome Here\n",
      "Try to be 2nd Line\n",
      "Ends here\n"
     ]
    }
   ],
   "source": [
    "a = main_func(other_func)"
   ]
  },
  {
   "cell_type": "code",
   "execution_count": null,
   "id": "81566a47",
   "metadata": {},
   "outputs": [],
   "source": []
  }
 ],
 "metadata": {
  "kernelspec": {
   "display_name": "Python 3 (ipykernel)",
   "language": "python",
   "name": "python3"
  },
  "language_info": {
   "codemirror_mode": {
    "name": "ipython",
    "version": 3
   },
   "file_extension": ".py",
   "mimetype": "text/x-python",
   "name": "python",
   "nbconvert_exporter": "python",
   "pygments_lexer": "ipython3",
   "version": "3.9.13"
  }
 },
 "nbformat": 4,
 "nbformat_minor": 5
}
