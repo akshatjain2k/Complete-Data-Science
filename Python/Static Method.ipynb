{
 "cells": [
  {
   "cell_type": "code",
   "execution_count": 2,
   "id": "ddf05bdd",
   "metadata": {},
   "outputs": [],
   "source": [
    "import datetime\n",
    "now = datetime.datetime.now()"
   ]
  },
  {
   "cell_type": "code",
   "execution_count": 3,
   "id": "8c22ced6",
   "metadata": {},
   "outputs": [
    {
     "data": {
      "text/plain": [
       "2022"
      ]
     },
     "execution_count": 3,
     "metadata": {},
     "output_type": "execute_result"
    }
   ],
   "source": [
    "now.year"
   ]
  },
  {
   "cell_type": "code",
   "execution_count": 25,
   "id": "3b2e60e9",
   "metadata": {},
   "outputs": [],
   "source": [
    "class Car:\n",
    "    basePrice = 10000;  # class Variable\n",
    "    def __init__(self,window, door, power):\n",
    "        self.windows = window\n",
    "        self.doors = door\n",
    "        self.powers = power\n",
    "    def what_basePrice(self):\n",
    "        print(\"The base price is {}\".format(self.basePrice))\n",
    "    @classmethod\n",
    "    def revise_base_price(cls, inflation): \n",
    "        cls.basePrice += cls.basePrice*inflation \n",
    "    @staticmethod\n",
    "    def check_year():\n",
    "        if now.year == 2022:\n",
    "            return True\n",
    "        else:\n",
    "            return False"
   ]
  },
  {
   "cell_type": "code",
   "execution_count": 26,
   "id": "400f1c8e",
   "metadata": {},
   "outputs": [
    {
     "data": {
      "text/plain": [
       "True"
      ]
     },
     "execution_count": 26,
     "metadata": {},
     "output_type": "execute_result"
    }
   ],
   "source": [
    "Car.check_year()"
   ]
  },
  {
   "cell_type": "code",
   "execution_count": 27,
   "id": "f2e74041",
   "metadata": {},
   "outputs": [],
   "source": [
    "car1 = Car(4,5,2000)"
   ]
  },
  {
   "cell_type": "code",
   "execution_count": 28,
   "id": "240678a7",
   "metadata": {},
   "outputs": [],
   "source": [
    "if (car1.check_year()):\n",
    "    pass\n",
    "else:\n",
    "    Car.revise_base_price()"
   ]
  },
  {
   "cell_type": "code",
   "execution_count": 29,
   "id": "ef5f6ef7",
   "metadata": {},
   "outputs": [
    {
     "data": {
      "text/plain": [
       "10000"
      ]
     },
     "execution_count": 29,
     "metadata": {},
     "output_type": "execute_result"
    }
   ],
   "source": [
    "car1.basePrice"
   ]
  },
  {
   "cell_type": "markdown",
   "id": "8d0b708b",
   "metadata": {},
   "source": [
    "### Why use Static method\n",
    "\n",
    "1.It eliminates the use of self argument.\n",
    "\n",
    "2.It reduces memory usage because Python doesn't have to instantiate a bound-method for each object instiantiated:\n",
    "\n",
    "3.It improves code readability, signifying that the method does not depend on state of the object itself.\n",
    "\n",
    "4.It allows for method overriding in that if the method were defined at the module-level (i.e. outside the class) a subclass would not be able to override that method."
   ]
  }
 ],
 "metadata": {
  "kernelspec": {
   "display_name": "Python 3 (ipykernel)",
   "language": "python",
   "name": "python3"
  },
  "language_info": {
   "codemirror_mode": {
    "name": "ipython",
    "version": 3
   },
   "file_extension": ".py",
   "mimetype": "text/x-python",
   "name": "python",
   "nbconvert_exporter": "python",
   "pygments_lexer": "ipython3",
   "version": "3.9.13"
  }
 },
 "nbformat": 4,
 "nbformat_minor": 5
}
