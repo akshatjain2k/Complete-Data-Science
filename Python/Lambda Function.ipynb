{
 "cells": [
  {
   "cell_type": "code",
   "execution_count": 1,
   "id": "6c2540e5",
   "metadata": {},
   "outputs": [],
   "source": [
    " # Lambda function / Anonymouse Function / function with no name"
   ]
  },
  {
   "cell_type": "code",
   "execution_count": 2,
   "id": "77b1fc29",
   "metadata": {},
   "outputs": [
    {
     "data": {
      "text/plain": [
       "9"
      ]
     },
     "execution_count": 2,
     "metadata": {},
     "output_type": "execute_result"
    }
   ],
   "source": [
    "def add(a,b):\n",
    "    return a+b\n",
    "add(5,4)"
   ]
  },
  {
   "cell_type": "code",
   "execution_count": 12,
   "id": "dac43f13",
   "metadata": {},
   "outputs": [
    {
     "data": {
      "text/plain": [
       "17"
      ]
     },
     "execution_count": 12,
     "metadata": {},
     "output_type": "execute_result"
    }
   ],
   "source": [
    "add = lambda a,b,c: a+b+c\n",
    "add(6,6,5)"
   ]
  },
  {
   "cell_type": "code",
   "execution_count": 11,
   "id": "f82a3c56",
   "metadata": {},
   "outputs": [
    {
     "data": {
      "text/plain": [
       "True"
      ]
     },
     "execution_count": 11,
     "metadata": {},
     "output_type": "execute_result"
    }
   ],
   "source": [
    "evennum = lambda a: a%2 == 0\n",
    "oddnum = lambda b: b%2 != 0\n",
    "# evennum(8)\n",
    "oddnum(7)"
   ]
  },
  {
   "cell_type": "code",
   "execution_count": null,
   "id": "b29f7602",
   "metadata": {},
   "outputs": [],
   "source": []
  }
 ],
 "metadata": {
  "kernelspec": {
   "display_name": "Python 3 (ipykernel)",
   "language": "python",
   "name": "python3"
  },
  "language_info": {
   "codemirror_mode": {
    "name": "ipython",
    "version": 3
   },
   "file_extension": ".py",
   "mimetype": "text/x-python",
   "name": "python",
   "nbconvert_exporter": "python",
   "pygments_lexer": "ipython3",
   "version": "3.9.13"
  }
 },
 "nbformat": 4,
 "nbformat_minor": 5
}
