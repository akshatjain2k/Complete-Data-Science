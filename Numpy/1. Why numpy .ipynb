{
 "cells": [
  {
   "cell_type": "code",
   "execution_count": 39,
   "id": "364eaa6f",
   "metadata": {},
   "outputs": [],
   "source": [
    "import numpy as np\n",
    "import time\n",
    "import sys"
   ]
  },
  {
   "cell_type": "code",
   "execution_count": 40,
   "id": "089b0ce4",
   "metadata": {},
   "outputs": [
    {
     "name": "stdout",
     "output_type": "stream",
     "text": [
      "28000\n"
     ]
    }
   ],
   "source": [
    "l = range(1000)\n",
    "print(sys.getsizeof(5)*len(l))  # You can use any number at the place of 5 output is remain same"
   ]
  },
  {
   "cell_type": "code",
   "execution_count": 41,
   "id": "14d1374e",
   "metadata": {},
   "outputs": [
    {
     "name": "stdout",
     "output_type": "stream",
     "text": [
      "8000\n"
     ]
    }
   ],
   "source": [
    "array = np.arange(1000)\n",
    "print(array.size*array.itemsize)  #array.itemsize = Size of one element"
   ]
  },
  {
   "cell_type": "code",
   "execution_count": 42,
   "id": "689b35d9",
   "metadata": {},
   "outputs": [],
   "source": [
    "#1 numpy is taking very les memory than a simple array."
   ]
  },
  {
   "cell_type": "code",
   "execution_count": 43,
   "id": "237e267f",
   "metadata": {},
   "outputs": [],
   "source": [
    "SIZE = 1000000\n",
    "l1 = range(SIZE)\n",
    "l2 = range(SIZE)"
   ]
  },
  {
   "cell_type": "code",
   "execution_count": 44,
   "id": "5f96fbe8",
   "metadata": {},
   "outputs": [],
   "source": [
    "a1 = np.arange(SIZE)\n",
    "a2 = np.arange(SIZE)"
   ]
  },
  {
   "cell_type": "code",
   "execution_count": 56,
   "id": "72efd8d3",
   "metadata": {},
   "outputs": [
    {
     "name": "stdout",
     "output_type": "stream",
     "text": [
      "Python list took:  138.7491226196289\n",
      "numpy list took:  21.254777908325195\n"
     ]
    }
   ],
   "source": [
    "#python List\n",
    "start = time.time()\n",
    "result = [(x+y) for x,y in zip(l1, l2)]\n",
    "print(\"Python list took: \", (time.time()-start)*1000)\n",
    "\n",
    "#numpy list\n",
    "#python List\n",
    "start = time.time()\n",
    "result = a1 +a2\n",
    "print(\"numpy list took: \", (time.time()-start)*1000)\n"
   ]
  },
  {
   "cell_type": "code",
   "execution_count": null,
   "id": "47f05a3c",
   "metadata": {},
   "outputs": [],
   "source": [
    "#numpy is faster than normal methods"
   ]
  }
 ],
 "metadata": {
  "kernelspec": {
   "display_name": "Python 3",
   "language": "python",
   "name": "python3"
  },
  "language_info": {
   "codemirror_mode": {
    "name": "ipython",
    "version": 3
   },
   "file_extension": ".py",
   "mimetype": "text/x-python",
   "name": "python",
   "nbconvert_exporter": "python",
   "pygments_lexer": "ipython3",
   "version": "3.8.8"
  }
 },
 "nbformat": 4,
 "nbformat_minor": 5
}
